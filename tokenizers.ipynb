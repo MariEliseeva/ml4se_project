{
  "nbformat": 4,
  "nbformat_minor": 0,
  "metadata": {
    "colab": {
      "name": "Untitled5.ipynb",
      "provenance": [],
      "toc_visible": true
    },
    "kernelspec": {
      "name": "python3",
      "display_name": "Python 3"
    }
  },
  "cells": [
    {
      "cell_type": "code",
      "metadata": {
        "id": "IXN9mpe7vsuE",
        "colab": {
          "base_uri": "https://localhost:8080/"
        },
        "outputId": "ff20733c-9795-4566-ba9f-a93743b6a70e"
      },
      "source": [
        "% pip install sentencepiece"
      ],
      "execution_count": null,
      "outputs": [
        {
          "output_type": "stream",
          "text": [
            "Requirement already satisfied: sentencepiece in /usr/local/lib/python3.6/dist-packages (0.1.94)\n"
          ],
          "name": "stdout"
        }
      ]
    },
    {
      "cell_type": "code",
      "metadata": {
        "id": "LrHKxUvizsyE"
      },
      "source": [
        "import sentencepiece as spm"
      ],
      "execution_count": null,
      "outputs": []
    },
    {
      "cell_type": "code",
      "metadata": {
        "id": "fDOpWSel1FFR"
      },
      "source": [
        "spm.SentencePieceTrainer.train('--input=code.java --model_prefix=m --vocab_size=200 --model_type=unigram')"
      ],
      "execution_count": null,
      "outputs": []
    },
    {
      "cell_type": "code",
      "metadata": {
        "id": "xZs-6chKzs1i",
        "colab": {
          "base_uri": "https://localhost:8080/"
        },
        "outputId": "a7580320-18ee-410c-9254-d91e88cc47f5"
      },
      "source": [
        "s = spm.SentencePieceProcessor(model_file='m.model')\n",
        "print(s.encode_as_pieces(\"\"\"\n",
        "        /**\n",
        "         * Creates one more task, which takes existing\n",
        "         * and apply a given function to the result.\n",
        "         * @param function function to apply to the result\n",
        "         * @return LightFuture object, implementing the new task\n",
        "         */\n",
        "        @Override\n",
        "        public LightFuture<R> thenApply(Function<R, R> function) {\n",
        "            return ThreadPoolImpl.this.addTask(() -> {\n",
        "                try {\n",
        "                    return function.apply(ThreadPoolTask.this.get());\n",
        "                } catch (LightExecutionException e) {\n",
        "                    System.out.println(e.getMessage());\n",
        "                }\n",
        "                return null;\n",
        "            });\n",
        "        }\n",
        "        \"\"\"))"
      ],
      "execution_count": null,
      "outputs": [
        {
          "output_type": "stream",
          "text": [
            "['▁', '/', '*', '*', '▁*', '▁C', 're', 'ate', 's', '▁o', 'n', 'e', '▁', 'm', 'or', 'e', '▁task', ',', '▁whi', 'ch', '▁t', 'a', 'k', 'es', '▁ex', 'is', 'ting', '▁*', '▁an', 'd', '▁', 'apply', '▁a', '▁given', '▁function', '▁t', 'o', '▁the', '▁result', '.', '▁*', '▁@', 'pa', 'ra', 'm', '▁function', '▁function', '▁t', 'o', '▁', 'apply', '▁t', 'o', '▁the', '▁result', '▁*', '▁@', 'return', '▁LightFuture', '▁o', 'b', 'j', 'e', 'c', 't', ',', '▁implement', 'ing', '▁the', '▁ne', 'w', '▁task', '▁*', '/', '▁@', 'O', 'ver', 'r', 'ide', '▁p', 'u', 'bl', 'ic', '▁LightFuture', '<', 'R', '>', '▁the', 'n', 'A', 'p', 'p', 'l', 'y', '(', 'Function', '<', 'R', ',', '▁R', '>', '▁function', ')', '▁', '{', '▁return', '▁ThreadPoolImpl', '.', 'this', '.', 'add', 'Task', '(', '()', '▁', '-', '>', '▁', '{', '▁tr', 'y', '▁', '{', '▁return', '▁function', '.', 'apply', '(', 'ThreadPoolTask', '.', 'this', '.', 'get', '())', ';', '▁}', '▁ca', 't', 'ch', '▁(', 'L', 'i', 'g', 'h', 't', 'Ex', 'ecutionException', '▁', 'e', ')', '▁', '{', '▁', 'S', 'y', 's', 'te', 'm', '.', 'o', 'ut', '.', 'pri', 'nt', 'l', 'n', '(', 'e', '.', 'get', 'M', 'es', 's', 'age', '())', ';', '▁}', '▁return', '▁', 'n', 'u', 'll', ';', '▁}', ')', ';', '▁}']\n"
          ],
          "name": "stdout"
        }
      ]
    },
    {
      "cell_type": "code",
      "metadata": {
        "id": "SDcj8OZLzs79"
      },
      "source": [
        "spm.SentencePieceTrainer.train('--input=code.java  --model_prefix=m --vocab_size=200 --model_type=bpe' )"
      ],
      "execution_count": null,
      "outputs": []
    },
    {
      "cell_type": "code",
      "metadata": {
        "id": "xFtDj31Bzs5h",
        "colab": {
          "base_uri": "https://localhost:8080/"
        },
        "outputId": "a5eddfae-fe81-4c7c-d5ab-e567649f6532"
      },
      "source": [
        "s = spm.SentencePieceProcessor(model_file='m.model')\n",
        "print(s.encode_as_pieces(\"\"\"\n",
        "       @Override\n",
        "        public LightFuture<R> thenApply(Function<R, R> function) {\n",
        "            return ThreadPoolImpl.this.addTask(() -> {\n",
        "                try {\n",
        "                    return function.apply(ThreadPoolTask.this.get());\n",
        "                } catch (LightExecutionException e) {\n",
        "                    System.out.println(e.getMessage());\n",
        "                }\n",
        "                return null;\n",
        "            });\n",
        "        }\n",
        "        \"\"\"))"
      ],
      "execution_count": null,
      "outputs": [
        {
          "output_type": "stream",
          "text": [
            "['▁@', 'O', 'v', 'err', 'id', 'e', '▁public', '▁Light', 'Futu', 're', '<', 'R', '>', '▁the', 'n', 'A', 'p', 'pl', 'y', '(', 'F', 'unction', '<', 'R', ',', '▁', 'R', '>', '▁f', 'unction', ')', '▁{', '▁return', '▁ThreadPool', 'I', 'mpl', '.', 'th', 'is', '.', 'ad', 'd', 'Task', '(', '()', '▁', '-', '>', '▁{', '▁tr', 'y', '▁{', '▁return', '▁f', 'unction', '.', 'a', 'p', 'pl', 'y', '(', 'Thread', 'Pool', 'Task', '.', 'th', 'is', '.', 'get', '()', ');', '▁}', '▁ca', 't', 'ch', '▁(', 'Li', 'ght', 'E', 'xecu', 'tion', 'Exception', '▁e', ')', '▁{', '▁', 'S', 'y', 's', 'te', 'm', '.', 'o', 'u', 't', '.', 'p', 'r', 'int', 'l', 'n', '(', 'e', '.', 'get', 'M', 'e', 's', 's', 'a', 'ge', '()', ');', '▁}', '▁return', '▁n', 'u', 'll', ';', '▁}', ');', '▁}']\n"
          ],
          "name": "stdout"
        }
      ]
    },
    {
      "cell_type": "code",
      "metadata": {
        "id": "qSjZ3FYz3Z43"
      },
      "source": [
        "from re import finditer, findall\n",
        "def camel_case_split(code):\n",
        "    code = findall(r\"[\\w']+|[^\\w\\s']\", code)\n",
        "    result = []\n",
        "    for c in code:\n",
        "        matches = finditer('.+?(?:(?<=[a-z])(?=[A-Z])|(?<=[A-Z])(?=[A-Z][a-z])|$)', c)\n",
        "        result.extend([m.group(0) for m in matches])\n",
        "    return result"
      ],
      "execution_count": null,
      "outputs": []
    },
    {
      "cell_type": "code",
      "metadata": {
        "id": "Y_EgMBg13aZr",
        "colab": {
          "base_uri": "https://localhost:8080/"
        },
        "outputId": "08dcacbd-d869-41d3-9514-98cdbe9b2cca"
      },
      "source": [
        "camel_case_split(\"CamelCaseCodeVeryLongTheLongest oneMoreCode = 2; for (int i = 0; i < 10; i++) { System.out.println(\\\"Hello World\\\");}\")"
      ],
      "execution_count": null,
      "outputs": [
        {
          "output_type": "execute_result",
          "data": {
            "text/plain": [
              "['Camel',\n",
              " 'Case',\n",
              " 'Code',\n",
              " 'Very',\n",
              " 'Long',\n",
              " 'The',\n",
              " 'Longest',\n",
              " 'one',\n",
              " 'More',\n",
              " 'Code',\n",
              " '=',\n",
              " '2',\n",
              " ';',\n",
              " 'for',\n",
              " '(',\n",
              " 'int',\n",
              " 'i',\n",
              " '=',\n",
              " '0',\n",
              " ';',\n",
              " 'i',\n",
              " '<',\n",
              " '10',\n",
              " ';',\n",
              " 'i',\n",
              " '+',\n",
              " '+',\n",
              " ')',\n",
              " '{',\n",
              " 'System',\n",
              " '.',\n",
              " 'out',\n",
              " '.',\n",
              " 'println',\n",
              " '(',\n",
              " '\"',\n",
              " 'Hello',\n",
              " 'World',\n",
              " '\"',\n",
              " ')',\n",
              " ';',\n",
              " '}']"
            ]
          },
          "metadata": {
            "tags": []
          },
          "execution_count": 34
        }
      ]
    }
  ]
}